{
  "nbformat": 4,
  "nbformat_minor": 0,
  "metadata": {
    "colab": {
      "provenance": [],
      "gpuType": "T4"
    },
    "kernelspec": {
      "name": "python3",
      "display_name": "Python 3"
    },
    "language_info": {
      "name": "python"
    },
    "accelerator": "GPU"
  },
  "cells": [
    {
      "cell_type": "code",
      "execution_count": null,
      "metadata": {
        "id": "ShNGl7lsNRvx"
      },
      "outputs": [],
      "source": [
        "!git clone https://github.com/L-T-B/mosaic.git\n",
        "%pip install pillow numpy tqdm matplotlib\n",
        "!git clone https://github.com/EliSchwartz/imagenet-sample-images.git examples\n",
        "!rm examples/*.md\n",
        "!rm -r examples/.git\n",
        "!cd mosaic/test-6.png example_target.png"
      ]
    },
    {
      "cell_type": "markdown",
      "source": [
        "Upload your images into a folder in the sidebar and your target image to create your own plan"
      ],
      "metadata": {
        "id": "J1CFxG91VY2u"
      }
    },
    {
      "cell_type": "code",
      "source": [
        "!python3 mosaic/mosaic.py example_target.png examples"
      ],
      "metadata": {
        "id": "o9oF9quSO9gz"
      },
      "execution_count": null,
      "outputs": []
    }
  ]
}